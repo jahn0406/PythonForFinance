{
 "cells": [
  {
   "cell_type": "markdown",
   "metadata": {},
   "source": [
    "#### KRX 종목 검색기 \n",
    "- KRX에서 종목들 가져오기\n",
    "- OTP가 시간별로 바뀌는 거 주의하기! \n"
   ]
  },
  {
   "cell_type": "code",
   "execution_count": 7,
   "metadata": {},
   "outputs": [
    {
     "data": {
      "text/plain": [
       "b'OM+LEiF68ec3RDb2Yv7KayuatfxE1zkKqIfBoEKXXThJ4cHfAjOJxGi7Ius/71PDsq3yC5d/AD/F+HjoP5gtlf3+JgW4evfaZTkW6AXVOEbnvZc7tAMh1uxzz9DOGApi'"
      ]
     },
     "execution_count": 7,
     "metadata": {},
     "output_type": "execute_result"
    }
   ],
   "source": [
    "# STEP 1 : 타임 구하기 \n",
    "import time \n",
    "t = time.time() * 1000\n",
    "\n",
    "# STEP 2 : Generate-OTP \n",
    "import requests \n",
    "OTP_url = 'http://marketdata.krx.co.kr/contents/COM/GenerateOTP.jspx?bld=COM%2Ffinder_stkisu&name=form&_='+str(t)\n",
    "r = requests.get(OTP_url)\n",
    "r.content"
   ]
  },
  {
   "cell_type": "code",
   "execution_count": 11,
   "metadata": {},
   "outputs": [
    {
     "data": {
      "text/plain": [
       "'{\"block1\":[{\"full_code\":\"KR7060310000\",\"short_code\":\"A060310\",\"codeName\":\"3S\",\"marketName\":\"KOSDAQ\"},{\"full_code\":\"KR7095570008\",\"short_code\":\"A095570\",\"codeName\":\"AJ네트웍스\",\"marketName\":\"KOSPI\"},{\"full_code\":\"KR7068400001\",\"short_code\":\"A068400\",\"codeName\":\"AJ렌터카\",\"marketName\":\"KOSPI\"},{\"full_code\":\"KR7006840003\",\"short_code\":\"A006840\",\"codeName\":\"AK홀딩스\",\"marketName\":\"KOSPI\"},{\"full_code\":\"KR7054620000\",\"short_code\":\"A054620\",\"codeName\":\"APS홀딩스\",\"marketName\":\"KOSDAQ\"},{\"full_code\":\"KR7265520007\",\"short_code\":\"A265520\",\"codeName\":\"AP시스템\",\"marketName\":\"KOSDAQ\"},{\"full_code\":\"KR7211270004\",\"short_code\":\"A211270\",\"codeName\":\"AP위성\",\"marketName\":\"KOSDAQ\"},{\"full_code\":\"KR7027410000\",\"short_code\":\"A027410\",\"codeName\":\"BGF\",\"marketName\":\"KOSPI\"},{\"full_code\":\"KR7282330000\",\"short_code\":\"A282330\",\"codeName\":\"BGF리테일\",\"marketName\":\"KOSPI\"},{\"full_code\":\"KR7138930003\",\"short_code\":\"A138930\",\"codeName\":\"BNK금융지주\",\"marketName\":\"KOSPI\"},{\"full_code\":\"KR7001460005\",\"short_code\":\"A001460\",\"codeName\":\"BYC'"
      ]
     },
     "execution_count": 11,
     "metadata": {},
     "output_type": "execute_result"
    }
   ],
   "source": [
    "# STEP 3 : Download the list of all the listed companies \n",
    "down_url = 'http://marketdata.krx.co.kr/contents/MKD/99/MKD99000001.jspx'\n",
    "down_data = {\n",
    "    'isuCd' : '' , \n",
    "    'no': 'P1' , \n",
    "    'mktsel': 'ALL' , \n",
    "    'searchText' : '' ,\n",
    "    'pagePath': '/contents/COM/FinderStkIsu.jsp' ,\n",
    "    'code': r.content ,\n",
    "    'pageFirstCall' : 'Y'\n",
    "}\n",
    "\n",
    "down = requests.post(down_url , down_data)\n",
    "down.text[:1000]"
   ]
  },
  {
   "cell_type": "code",
   "execution_count": 25,
   "metadata": {},
   "outputs": [],
   "source": [
    "# json.loads 정리하기\n",
    "import json\n",
    "from pandas.io.json import json_normalize\n",
    "\n",
    "json.loads(down.text)\n",
    "list = json_normalize(json.loads(down.text),'block1')"
   ]
  },
  {
   "cell_type": "code",
   "execution_count": 26,
   "metadata": {},
   "outputs": [],
   "source": [
    "# 함수로 정리하기 \n",
    "def stock_finder() : \n",
    "    # STEP 1 : 타임 구하기 \n",
    "    import time \n",
    "    t = time.time() * 1000\n",
    "\n",
    "    # STEP 2 : Generate-OTP \n",
    "    import requests \n",
    "    OTP_url = 'http://marketdata.krx.co.kr/contents/COM/GenerateOTP.jspx?bld=COM%2Ffinder_stkisu&name=form&_='+str(t)\n",
    "    r = requests.get(OTP_url)\n",
    "    r.content\n",
    "    \n",
    "   # STEP 3 : Download the list of all the listed companies \n",
    "    down_url = 'http://marketdata.krx.co.kr/contents/MKD/99/MKD99000001.jspx'\n",
    "    down_data = {\n",
    "        'isuCd' : '' , \n",
    "        'no': 'P1' , \n",
    "        'mktsel': 'ALL' , \n",
    "        'searchText' : '' ,\n",
    "        'pagePath': '/contents/COM/FinderStkIsu.jsp' ,\n",
    "        'code': r.content ,\n",
    "        'pageFirstCall' : 'Y'\n",
    "        }\n",
    "\n",
    "    down = requests.post(down_url , down_data)\n",
    "    \n",
    "    # STEP 4 : return as dataframe \n",
    "    import json\n",
    "    from pandas.io.json import json_normalize\n",
    "    \n",
    "    return json_normalize(json.loads(down.text),'block1')"
   ]
  },
  {
   "cell_type": "code",
   "execution_count": 28,
   "metadata": {},
   "outputs": [
    {
     "data": {
      "text/html": [
       "<div>\n",
       "<style scoped>\n",
       "    .dataframe tbody tr th:only-of-type {\n",
       "        vertical-align: middle;\n",
       "    }\n",
       "\n",
       "    .dataframe tbody tr th {\n",
       "        vertical-align: top;\n",
       "    }\n",
       "\n",
       "    .dataframe thead th {\n",
       "        text-align: right;\n",
       "    }\n",
       "</style>\n",
       "<table border=\"1\" class=\"dataframe\">\n",
       "  <thead>\n",
       "    <tr style=\"text-align: right;\">\n",
       "      <th></th>\n",
       "      <th>codeName</th>\n",
       "      <th>full_code</th>\n",
       "      <th>marketName</th>\n",
       "      <th>short_code</th>\n",
       "    </tr>\n",
       "  </thead>\n",
       "  <tbody>\n",
       "    <tr>\n",
       "      <th>0</th>\n",
       "      <td>3S</td>\n",
       "      <td>KR7060310000</td>\n",
       "      <td>KOSDAQ</td>\n",
       "      <td>A060310</td>\n",
       "    </tr>\n",
       "    <tr>\n",
       "      <th>1</th>\n",
       "      <td>AJ네트웍스</td>\n",
       "      <td>KR7095570008</td>\n",
       "      <td>KOSPI</td>\n",
       "      <td>A095570</td>\n",
       "    </tr>\n",
       "    <tr>\n",
       "      <th>2</th>\n",
       "      <td>AJ렌터카</td>\n",
       "      <td>KR7068400001</td>\n",
       "      <td>KOSPI</td>\n",
       "      <td>A068400</td>\n",
       "    </tr>\n",
       "    <tr>\n",
       "      <th>3</th>\n",
       "      <td>AK홀딩스</td>\n",
       "      <td>KR7006840003</td>\n",
       "      <td>KOSPI</td>\n",
       "      <td>A006840</td>\n",
       "    </tr>\n",
       "    <tr>\n",
       "      <th>4</th>\n",
       "      <td>APS홀딩스</td>\n",
       "      <td>KR7054620000</td>\n",
       "      <td>KOSDAQ</td>\n",
       "      <td>A054620</td>\n",
       "    </tr>\n",
       "    <tr>\n",
       "      <th>5</th>\n",
       "      <td>AP시스템</td>\n",
       "      <td>KR7265520007</td>\n",
       "      <td>KOSDAQ</td>\n",
       "      <td>A265520</td>\n",
       "    </tr>\n",
       "    <tr>\n",
       "      <th>6</th>\n",
       "      <td>AP위성</td>\n",
       "      <td>KR7211270004</td>\n",
       "      <td>KOSDAQ</td>\n",
       "      <td>A211270</td>\n",
       "    </tr>\n",
       "    <tr>\n",
       "      <th>7</th>\n",
       "      <td>BGF</td>\n",
       "      <td>KR7027410000</td>\n",
       "      <td>KOSPI</td>\n",
       "      <td>A027410</td>\n",
       "    </tr>\n",
       "    <tr>\n",
       "      <th>8</th>\n",
       "      <td>BGF리테일</td>\n",
       "      <td>KR7282330000</td>\n",
       "      <td>KOSPI</td>\n",
       "      <td>A282330</td>\n",
       "    </tr>\n",
       "    <tr>\n",
       "      <th>9</th>\n",
       "      <td>BNK금융지주</td>\n",
       "      <td>KR7138930003</td>\n",
       "      <td>KOSPI</td>\n",
       "      <td>A138930</td>\n",
       "    </tr>\n",
       "  </tbody>\n",
       "</table>\n",
       "</div>"
      ],
      "text/plain": [
       "  codeName     full_code marketName short_code\n",
       "0       3S  KR7060310000     KOSDAQ    A060310\n",
       "1   AJ네트웍스  KR7095570008      KOSPI    A095570\n",
       "2    AJ렌터카  KR7068400001      KOSPI    A068400\n",
       "3    AK홀딩스  KR7006840003      KOSPI    A006840\n",
       "4   APS홀딩스  KR7054620000     KOSDAQ    A054620\n",
       "5    AP시스템  KR7265520007     KOSDAQ    A265520\n",
       "6     AP위성  KR7211270004     KOSDAQ    A211270\n",
       "7      BGF  KR7027410000      KOSPI    A027410\n",
       "8   BGF리테일  KR7282330000      KOSPI    A282330\n",
       "9  BNK금융지주  KR7138930003      KOSPI    A138930"
      ]
     },
     "execution_count": 28,
     "metadata": {},
     "output_type": "execute_result"
    }
   ],
   "source": [
    "# stock_finder 에서 marketName 별로 grouping 해보기 \n",
    "stock_finder().head(n = 10)"
   ]
  },
  {
   "cell_type": "code",
   "execution_count": 34,
   "metadata": {},
   "outputs": [
    {
     "data": {
      "text/plain": [
       "marketName\n",
       "KONEX      148\n",
       "KOSDAQ    1274\n",
       "KOSPI      923\n",
       "dtype: int64"
      ]
     },
     "execution_count": 34,
     "metadata": {},
     "output_type": "execute_result"
    }
   ],
   "source": [
    "a = stock_finder()\n",
    "a.groupby('marketName').size()"
   ]
  },
  {
   "cell_type": "code",
   "execution_count": 59,
   "metadata": {},
   "outputs": [],
   "source": [
    "a_KONEX = pd.DataFrame([a.loc[x] for x in range(len(a)) if a['marketName'][x] == 'KONEX'])[['codeName' , 'full_code']].reset_index(drop = True)\n",
    "a_KOSDAQ = pd.DataFrame([a.loc[x] for x in range(len(a)) if a['marketName'][x] == 'KOSDAQ'])[['codeName' , 'full_code']].reset_index(drop = True)\n",
    "a_KOSPI = pd.DataFrame([a.loc[x] for x in range(len(a)) if a['marketName'][x] == 'KOSPI'])[['codeName' , 'full_code']].reset_index(drop = True)"
   ]
  },
  {
   "cell_type": "code",
   "execution_count": 63,
   "metadata": {},
   "outputs": [
    {
     "name": "stdout",
     "output_type": "stream",
     "text": [
      "148\n"
     ]
    },
    {
     "data": {
      "text/html": [
       "<div>\n",
       "<style scoped>\n",
       "    .dataframe tbody tr th:only-of-type {\n",
       "        vertical-align: middle;\n",
       "    }\n",
       "\n",
       "    .dataframe tbody tr th {\n",
       "        vertical-align: top;\n",
       "    }\n",
       "\n",
       "    .dataframe thead th {\n",
       "        text-align: right;\n",
       "    }\n",
       "</style>\n",
       "<table border=\"1\" class=\"dataframe\">\n",
       "  <thead>\n",
       "    <tr style=\"text-align: right;\">\n",
       "      <th></th>\n",
       "      <th>codeName</th>\n",
       "      <th>full_code</th>\n",
       "    </tr>\n",
       "  </thead>\n",
       "  <tbody>\n",
       "    <tr>\n",
       "      <th>0</th>\n",
       "      <td>KC산업</td>\n",
       "      <td>KR7112190004</td>\n",
       "    </tr>\n",
       "    <tr>\n",
       "      <th>1</th>\n",
       "      <td>SGA임베디드</td>\n",
       "      <td>KR7224880005</td>\n",
       "    </tr>\n",
       "    <tr>\n",
       "      <th>2</th>\n",
       "      <td>TS트릴리온</td>\n",
       "      <td>KR7284610003</td>\n",
       "    </tr>\n",
       "    <tr>\n",
       "      <th>3</th>\n",
       "      <td>관악산업</td>\n",
       "      <td>KR7076340009</td>\n",
       "    </tr>\n",
       "    <tr>\n",
       "      <th>4</th>\n",
       "      <td>구름게임즈앤컴퍼니</td>\n",
       "      <td>KR7223220005</td>\n",
       "    </tr>\n",
       "    <tr>\n",
       "      <th>5</th>\n",
       "      <td>굿센</td>\n",
       "      <td>KR7243870003</td>\n",
       "    </tr>\n",
       "    <tr>\n",
       "      <th>6</th>\n",
       "      <td>그린플러스</td>\n",
       "      <td>KR7186230009</td>\n",
       "    </tr>\n",
       "    <tr>\n",
       "      <th>7</th>\n",
       "      <td>극동자동화</td>\n",
       "      <td>KR7272420001</td>\n",
       "    </tr>\n",
       "    <tr>\n",
       "      <th>8</th>\n",
       "      <td>나눔테크</td>\n",
       "      <td>KR7244880001</td>\n",
       "    </tr>\n",
       "    <tr>\n",
       "      <th>9</th>\n",
       "      <td>나무기술</td>\n",
       "      <td>KR7167380005</td>\n",
       "    </tr>\n",
       "  </tbody>\n",
       "</table>\n",
       "</div>"
      ],
      "text/plain": [
       "    codeName     full_code\n",
       "0       KC산업  KR7112190004\n",
       "1    SGA임베디드  KR7224880005\n",
       "2     TS트릴리온  KR7284610003\n",
       "3       관악산업  KR7076340009\n",
       "4  구름게임즈앤컴퍼니  KR7223220005\n",
       "5         굿센  KR7243870003\n",
       "6      그린플러스  KR7186230009\n",
       "7      극동자동화  KR7272420001\n",
       "8       나눔테크  KR7244880001\n",
       "9       나무기술  KR7167380005"
      ]
     },
     "execution_count": 63,
     "metadata": {},
     "output_type": "execute_result"
    }
   ],
   "source": [
    "print(len(a_KONEX))\n",
    "a_KONEX.head(n=10) "
   ]
  },
  {
   "cell_type": "code",
   "execution_count": null,
   "metadata": {},
   "outputs": [],
   "source": []
  }
 ],
 "metadata": {
  "kernelspec": {
   "display_name": "Python 3",
   "language": "python",
   "name": "python3"
  },
  "language_info": {
   "codemirror_mode": {
    "name": "ipython",
    "version": 3
   },
   "file_extension": ".py",
   "mimetype": "text/x-python",
   "name": "python",
   "nbconvert_exporter": "python",
   "pygments_lexer": "ipython3",
   "version": "3.6.5"
  }
 },
 "nbformat": 4,
 "nbformat_minor": 2
}
